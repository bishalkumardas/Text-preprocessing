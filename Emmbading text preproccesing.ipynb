{
 "cells": [
  {
   "cell_type": "code",
   "execution_count": 1,
   "metadata": {},
   "outputs": [],
   "source": [
    "import numpy as np\n",
    "\n",
    "from tensorflow.keras.preprocessing.text import one_hot\n",
    "from tensorflow.keras.preprocessing.sequence import pad_sequences\n",
    "from tensorflow.keras.models import Sequential\n",
    "from tensorflow.keras.layers import Dense, Flatten, Embedding"
   ]
  },
  {
   "cell_type": "code",
   "execution_count": 2,
   "metadata": {},
   "outputs": [],
   "source": [
    "sample_questions=[\"What’s your favorite way to spend a day off\",\"What type of music are you into\",\"What was the best vacation you ever took and why\",\n",
    "\"Where’s the next place on your travel bucket list and why\",'What are your hobbies, and how did you get into them',\n",
    "'What are your hobbies, and how did you get into them','What was your favorite age growing up','What was the last thing you read',\n",
    "'Would you say you’re more of an extrovert or an introvert',\"What's your favorite ice cream topping\",'What was the last TV show you binge-watched',\n",
    "'Are you into podcasts or do you only listen to music','Do you have a favorite holiday  Why or why not',\n",
    "'If you could only eat one food for the rest of your life, what would it be','Do you like going to the movies or prefer watching at home',\n",
    "\"What’s your favorite sleeping position?What’s your go-to guilty pleasure\",'Hellow, how are you','how are you','how are you doing',\n",
    "'What’s your favorite way to spend a day off','In the summer, would you rather go to the beach or go camping',\n",
    "\"What’s your favorite quote from a TV show/movie/book\",'How old were you when you had your first celebrity crush', 'who was it',\n",
    "\"What's one thing that can instantly make your day better\",'Do you have any pet peeves','Which meal is your favorite: breakfast, lunch, or dinner',\n",
    "'What song always gets you out on the dance floor','When you were a kid','did you eat the crusts on your sandwich or not',\n",
    "'What activity instantly calms you','how would you spend your birthday','What do you do on your commute to/from work',\n",
    "'Are you a fan of musicals—why or why not',\"What's your favorite season and why\",\"What's the best joke you've ever heard\",\n",
    "\"What’s your favorite way to spend a day off\",\"What type of music are you into\",'are you mad', 'can you do it']\n"
   ]
  },
  {
   "cell_type": "code",
   "execution_count": 3,
   "metadata": {},
   "outputs": [],
   "source": [
    "sample_answers=[\"He who laughs last, thinks slowest\",\"Everyone has a photographic memory. Some don't have film\",\n",
    "\"A day without sunshine is like, well, night\",'On the other hand, you have different fingers',\n",
    "'Change is inevitable, except from a vending machine','I just got lost in thought','It was unfamiliar territory',\n",
    "'When the chips are down, the buffalo is empty',\"Seen it all, done it all, can't remember most of it\",\n",
    "\"Those who live by the sword get shot by those who don't\",\"I feel like I'm diagonally parked in a parallel universe\",\n",
    "\"He's not dead, he's electroencephalographically challenged\",\"You have the right to remain silent\",\n",
    "'Anything you say will be misquoted, then used against you','I wonder how much deeper the ocean would be without sponges',\n",
    "'Honk if you love peace and quiet','Nothing is fool-proof to a sufficiently talented fool',\n",
    "'It is hard to understand how a cemeteryraised its burial cost and blamed it on the cost of living', \n",
    "\"Just remember...if the world didn't suck, we'd all fall off you are doing good\",\n",
    "\"The 50-50-90 rule: Anytime you have a 50-50 chance of getting something right, there's a 90% probability you'll get it wrong\",\n",
    "\"It is said that if you line up all the cars in the world end to end, someone would be stupid enough to try and pass them\",\n",
    "\" yes You can't have everything\",\"Latest survey shows that 3 out of 4 people make up 75% of the world's population\",\n",
    "\"The things that come to those that wait may be the things left by those who got there first\",\n",
    "\"A fine is a tax for doing wrong\", 'A tax is a fine for doing well',\"It was recently discovered that research causes cancer in rats\",\n",
    "\"Everybody lies, but it doesn't matter since nobody listens\",'I wished the buck stopped here, as I could use a few',\n",
    "'I started out with nothing, and I still have most of it',\"Light travels faster than sound\",\n",
    "\"This is why some people appear bright until you hear them speak\",' yes i can do it','no','yup','great','I am fine','sweet','ok','wow']"
   ]
  },
  {
   "cell_type": "code",
   "execution_count": 4,
   "metadata": {},
   "outputs": [
    {
     "data": {
      "text/plain": [
       "40"
      ]
     },
     "execution_count": 4,
     "metadata": {},
     "output_type": "execute_result"
    }
   ],
   "source": [
    "len(sample_questions)"
   ]
  },
  {
   "cell_type": "code",
   "execution_count": 5,
   "metadata": {},
   "outputs": [
    {
     "data": {
      "text/plain": [
       "40"
      ]
     },
     "execution_count": 5,
     "metadata": {},
     "output_type": "execute_result"
    }
   ],
   "source": [
    "len(sample_answers)"
   ]
  },
  {
   "cell_type": "code",
   "execution_count": 6,
   "metadata": {},
   "outputs": [],
   "source": [
    "#defining class lables\n",
    "labels1=np.ones(len(sample_questions),dtype=np.int32)"
   ]
  },
  {
   "cell_type": "code",
   "execution_count": 7,
   "metadata": {},
   "outputs": [
    {
     "data": {
      "text/plain": [
       "array([1, 1, 1, 1, 1, 1, 1, 1, 1, 1, 1, 1, 1, 1, 1, 1, 1, 1, 1, 1, 1, 1,\n",
       "       1, 1, 1, 1, 1, 1, 1, 1, 1, 1, 1, 1, 1, 1, 1, 1, 1, 1])"
      ]
     },
     "execution_count": 7,
     "metadata": {},
     "output_type": "execute_result"
    }
   ],
   "source": [
    "labels1"
   ]
  },
  {
   "cell_type": "code",
   "execution_count": 8,
   "metadata": {},
   "outputs": [],
   "source": [
    "labels2=np.zeros(len(sample_answers),dtype=np.int32)"
   ]
  },
  {
   "cell_type": "code",
   "execution_count": 9,
   "metadata": {},
   "outputs": [
    {
     "data": {
      "text/plain": [
       "array([0, 0, 0, 0, 0, 0, 0, 0, 0, 0, 0, 0, 0, 0, 0, 0, 0, 0, 0, 0, 0, 0,\n",
       "       0, 0, 0, 0, 0, 0, 0, 0, 0, 0, 0, 0, 0, 0, 0, 0, 0, 0])"
      ]
     },
     "execution_count": 9,
     "metadata": {},
     "output_type": "execute_result"
    }
   ],
   "source": [
    "labels2"
   ]
  },
  {
   "cell_type": "code",
   "execution_count": 10,
   "metadata": {},
   "outputs": [],
   "source": [
    "sample_data=sample_questions+sample_answers"
   ]
  },
  {
   "cell_type": "code",
   "execution_count": 11,
   "metadata": {},
   "outputs": [
    {
     "data": {
      "text/plain": [
       "['What’s your favorite way to spend a day off',\n",
       " 'What type of music are you into',\n",
       " 'What was the best vacation you ever took and why',\n",
       " 'Where’s the next place on your travel bucket list and why',\n",
       " 'What are your hobbies, and how did you get into them',\n",
       " 'What are your hobbies, and how did you get into them',\n",
       " 'What was your favorite age growing up',\n",
       " 'What was the last thing you read',\n",
       " 'Would you say you’re more of an extrovert or an introvert',\n",
       " \"What's your favorite ice cream topping\",\n",
       " 'What was the last TV show you binge-watched',\n",
       " 'Are you into podcasts or do you only listen to music',\n",
       " 'Do you have a favorite holiday  Why or why not',\n",
       " 'If you could only eat one food for the rest of your life, what would it be',\n",
       " 'Do you like going to the movies or prefer watching at home',\n",
       " 'What’s your favorite sleeping position?What’s your go-to guilty pleasure',\n",
       " 'Hellow, how are you',\n",
       " 'how are you',\n",
       " 'how are you doing',\n",
       " 'What’s your favorite way to spend a day off',\n",
       " 'In the summer, would you rather go to the beach or go camping',\n",
       " 'What’s your favorite quote from a TV show/movie/book',\n",
       " 'How old were you when you had your first celebrity crush',\n",
       " 'who was it',\n",
       " \"What's one thing that can instantly make your day better\",\n",
       " 'Do you have any pet peeves',\n",
       " 'Which meal is your favorite: breakfast, lunch, or dinner',\n",
       " 'What song always gets you out on the dance floor',\n",
       " 'When you were a kid',\n",
       " 'did you eat the crusts on your sandwich or not',\n",
       " 'What activity instantly calms you',\n",
       " 'how would you spend your birthday',\n",
       " 'What do you do on your commute to/from work',\n",
       " 'Are you a fan of musicals—why or why not',\n",
       " \"What's your favorite season and why\",\n",
       " \"What's the best joke you've ever heard\",\n",
       " 'What’s your favorite way to spend a day off',\n",
       " 'What type of music are you into',\n",
       " 'are you mad',\n",
       " 'can you do it',\n",
       " 'He who laughs last, thinks slowest',\n",
       " \"Everyone has a photographic memory. Some don't have film\",\n",
       " 'A day without sunshine is like, well, night',\n",
       " 'On the other hand, you have different fingers',\n",
       " 'Change is inevitable, except from a vending machine',\n",
       " 'I just got lost in thought',\n",
       " 'It was unfamiliar territory',\n",
       " 'When the chips are down, the buffalo is empty',\n",
       " \"Seen it all, done it all, can't remember most of it\",\n",
       " \"Those who live by the sword get shot by those who don't\",\n",
       " \"I feel like I'm diagonally parked in a parallel universe\",\n",
       " \"He's not dead, he's electroencephalographically challenged\",\n",
       " 'You have the right to remain silent',\n",
       " 'Anything you say will be misquoted, then used against you',\n",
       " 'I wonder how much deeper the ocean would be without sponges',\n",
       " 'Honk if you love peace and quiet',\n",
       " 'Nothing is fool-proof to a sufficiently talented fool',\n",
       " 'It is hard to understand how a cemeteryraised its burial cost and blamed it on the cost of living',\n",
       " \"Just remember...if the world didn't suck, we'd all fall off you are doing good\",\n",
       " \"The 50-50-90 rule: Anytime you have a 50-50 chance of getting something right, there's a 90% probability you'll get it wrong\",\n",
       " 'It is said that if you line up all the cars in the world end to end, someone would be stupid enough to try and pass them',\n",
       " \" yes You can't have everything\",\n",
       " \"Latest survey shows that 3 out of 4 people make up 75% of the world's population\",\n",
       " 'The things that come to those that wait may be the things left by those who got there first',\n",
       " 'A fine is a tax for doing wrong',\n",
       " 'A tax is a fine for doing well',\n",
       " 'It was recently discovered that research causes cancer in rats',\n",
       " \"Everybody lies, but it doesn't matter since nobody listens\",\n",
       " 'I wished the buck stopped here, as I could use a few',\n",
       " 'I started out with nothing, and I still have most of it',\n",
       " 'Light travels faster than sound',\n",
       " 'This is why some people appear bright until you hear them speak',\n",
       " ' yes i can do it',\n",
       " 'no',\n",
       " 'yup',\n",
       " 'great',\n",
       " 'I am fine',\n",
       " 'sweet',\n",
       " 'ok',\n",
       " 'wow']"
      ]
     },
     "execution_count": 11,
     "metadata": {},
     "output_type": "execute_result"
    }
   ],
   "source": [
    "sample_data"
   ]
  },
  {
   "cell_type": "code",
   "execution_count": 12,
   "metadata": {},
   "outputs": [],
   "source": [
    "labels=np.concatenate((labels1,labels2))"
   ]
  },
  {
   "cell_type": "code",
   "execution_count": 13,
   "metadata": {},
   "outputs": [
    {
     "name": "stdout",
     "output_type": "stream",
     "text": [
      "[1 1 1 1 1 1 1 1 1 1 1 1 1 1 1 1 1 1 1 1 1 1 1 1 1 1 1 1 1 1 1 1 1 1 1 1 1\n",
      " 1 1 1 0 0 0 0 0 0 0 0 0 0 0 0 0 0 0 0 0 0 0 0 0 0 0 0 0 0 0 0 0 0 0 0 0 0\n",
      " 0 0 0 0 0 0] \n",
      " 80\n"
     ]
    }
   ],
   "source": [
    "print(labels,'\\n',len(labels))"
   ]
  },
  {
   "cell_type": "code",
   "execution_count": 14,
   "metadata": {},
   "outputs": [
    {
     "data": {
      "text/plain": [
       "[[51, 241, 215, 688, 753, 220, 182, 906, 579],\n",
       " [207, 399, 64, 386, 516, 344, 507],\n",
       " [207, 214, 469, 408, 48, 344, 658, 742, 920, 338],\n",
       " [352, 469, 725, 559, 377, 241, 163, 807, 997, 920, 338],\n",
       " [207, 516, 241, 651, 920, 377, 752, 344, 69, 507, 973],\n",
       " [207, 516, 241, 651, 920, 377, 752, 344, 69, 507, 973],\n",
       " [207, 214, 241, 215, 630, 821, 30],\n",
       " [207, 214, 469, 589, 359, 344, 375],\n",
       " [470, 344, 85, 258, 315, 64, 620, 533, 372, 620, 873],\n",
       " [122, 241, 215, 337, 208, 917],\n",
       " [207, 214, 469, 589, 720, 818, 344, 724, 445],\n",
       " [516, 344, 507, 830, 372, 854, 344, 879, 806, 753, 386],\n",
       " [854, 344, 293, 182, 215, 633, 338, 372, 338, 675],\n",
       " [233,\n",
       "  344,\n",
       "  701,\n",
       "  879,\n",
       "  601,\n",
       "  102,\n",
       "  996,\n",
       "  398,\n",
       "  469,\n",
       "  827,\n",
       "  64,\n",
       "  241,\n",
       "  55,\n",
       "  207,\n",
       "  470,\n",
       "  698,\n",
       "  709],\n",
       " [854, 344, 386, 211, 753, 469, 175, 372, 441, 924, 458, 25],\n",
       " [51, 241, 215, 381, 110, 51, 241, 140, 753, 950, 529],\n",
       " [82, 377, 516, 344],\n",
       " [377, 516, 344],\n",
       " [377, 516, 344, 883],\n",
       " [51, 241, 215, 688, 753, 220, 182, 906, 579],\n",
       " [395, 469, 706, 470, 344, 895, 140, 753, 469, 662, 372, 140, 672],\n",
       " [51, 241, 215, 616, 184, 182, 720, 818, 74, 283],\n",
       " [377, 266, 862, 344, 92, 344, 745, 241, 812, 54, 762],\n",
       " [554, 214, 698],\n",
       " [122, 102, 359, 562, 176, 578, 240, 241, 906, 683],\n",
       " [854, 344, 293, 414, 399, 481],\n",
       " [452, 624, 617, 241, 215, 982, 184, 372, 366],\n",
       " [207, 107, 672, 386, 344, 504, 377, 469, 531, 98],\n",
       " [92, 344, 862, 182, 889],\n",
       " [752, 344, 601, 469, 976, 377, 241, 480, 372, 675],\n",
       " [207, 183, 578, 433, 344],\n",
       " [377, 470, 344, 220, 241, 617],\n",
       " [207, 854, 344, 854, 377, 241, 472, 753, 184, 612],\n",
       " [516, 344, 182, 125, 64, 280, 372, 338, 675],\n",
       " [122, 241, 215, 263, 920, 338],\n",
       " [122, 469, 408, 804, 132, 658, 533],\n",
       " [51, 241, 215, 688, 753, 220, 182, 906, 579],\n",
       " [207, 399, 64, 386, 516, 344, 507],\n",
       " [516, 344, 356],\n",
       " [176, 344, 854, 698],\n",
       " [734, 554, 237, 589, 76, 423],\n",
       " [255, 682, 182, 857, 635, 502, 941, 293, 465],\n",
       " [182, 906, 911, 865, 617, 386, 136, 44],\n",
       " [377, 469, 95, 341, 344, 293, 843, 596],\n",
       " [798, 617, 22, 460, 184, 182, 446, 645],\n",
       " [204, 466, 437, 225, 395, 57],\n",
       " [698, 214, 967, 762],\n",
       " [92, 469, 69, 516, 124, 469, 486, 617, 405],\n",
       " [645, 698, 93, 881, 698, 93, 635, 502, 875, 64, 698],\n",
       " [472, 554, 905, 689, 469, 714, 69, 431, 689, 472, 554, 941],\n",
       " [204, 252, 386, 275, 823, 372, 395, 182, 426, 256],\n",
       " [918, 675, 939, 918, 418, 406],\n",
       " [344, 293, 469, 478, 753, 398, 254],\n",
       " [553, 344, 85, 65, 709, 994, 935, 657, 804, 344],\n",
       " [204, 632, 377, 616, 314, 469, 109, 470, 709, 911, 574],\n",
       " [8, 233, 344, 28, 205, 920, 548],\n",
       " [828, 617, 334, 664, 753, 182, 554, 624, 334],\n",
       " [698,\n",
       "  617,\n",
       "  708,\n",
       "  753,\n",
       "  973,\n",
       "  377,\n",
       "  182,\n",
       "  600,\n",
       "  559,\n",
       "  321,\n",
       "  963,\n",
       "  920,\n",
       "  717,\n",
       "  698,\n",
       "  377,\n",
       "  469,\n",
       "  963,\n",
       "  64,\n",
       "  709],\n",
       " [466, 502, 233, 469, 814, 843, 111, 697, 93, 272, 579, 344, 516, 883, 249],\n",
       " [469,\n",
       "  677,\n",
       "  677,\n",
       "  92,\n",
       "  930,\n",
       "  93,\n",
       "  344,\n",
       "  293,\n",
       "  182,\n",
       "  677,\n",
       "  677,\n",
       "  684,\n",
       "  64,\n",
       "  125,\n",
       "  392,\n",
       "  478,\n",
       "  977,\n",
       "  182,\n",
       "  92,\n",
       "  22,\n",
       "  123,\n",
       "  69,\n",
       "  698,\n",
       "  957],\n",
       " [698,\n",
       "  617,\n",
       "  480,\n",
       "  562,\n",
       "  233,\n",
       "  344,\n",
       "  446,\n",
       "  30,\n",
       "  93,\n",
       "  469,\n",
       "  467,\n",
       "  395,\n",
       "  469,\n",
       "  814,\n",
       "  969,\n",
       "  753,\n",
       "  969,\n",
       "  8,\n",
       "  470,\n",
       "  709,\n",
       "  96,\n",
       "  615,\n",
       "  753,\n",
       "  116,\n",
       "  920,\n",
       "  649,\n",
       "  973],\n",
       " [928, 344, 635, 293, 530],\n",
       " [559, 382, 474, 562, 765, 504, 64, 256, 815, 240, 30, 800, 64, 469, 268, 499],\n",
       " [469,\n",
       "  384,\n",
       "  562,\n",
       "  156,\n",
       "  753,\n",
       "  472,\n",
       "  562,\n",
       "  496,\n",
       "  755,\n",
       "  709,\n",
       "  469,\n",
       "  384,\n",
       "  830,\n",
       "  689,\n",
       "  472,\n",
       "  554,\n",
       "  437,\n",
       "  379,\n",
       "  812],\n",
       " [182, 368, 617, 182, 760, 398, 883, 957],\n",
       " [182, 760, 617, 182, 368, 398, 883, 136],\n",
       " [698, 214, 108, 517, 562, 924, 841, 66, 395, 602],\n",
       " [696, 979, 162, 698, 285, 937, 159, 43, 582],\n",
       " [204, 47, 469, 287, 990, 547, 206, 204, 701, 684, 182, 945],\n",
       " [204, 794, 504, 300, 828, 920, 204, 172, 293, 875, 64, 698],\n",
       " [373, 317, 465, 796, 374],\n",
       " [998, 617, 338, 502, 815, 829, 837, 16, 344, 776, 973, 294],\n",
       " [928, 204, 176, 854, 698],\n",
       " [625],\n",
       " [657],\n",
       " [244],\n",
       " [204, 287, 368],\n",
       " [598],\n",
       " [287],\n",
       " [231]]"
      ]
     },
     "execution_count": 14,
     "metadata": {},
     "output_type": "execute_result"
    }
   ],
   "source": [
    "vocab_size=1000\n",
    "\n",
    "encoded_data=[one_hot(i,vocab_size) for i in sample_data]\n",
    "encoded_data"
   ]
  },
  {
   "cell_type": "code",
   "execution_count": 15,
   "metadata": {},
   "outputs": [
    {
     "data": {
      "text/plain": [
       "array([[  0,   0,   0, ..., 182, 906, 579],\n",
       "       [  0,   0,   0, ..., 516, 344, 507],\n",
       "       [  0,   0,   0, ..., 742, 920, 338],\n",
       "       ...,\n",
       "       [  0,   0,   0, ...,   0,   0, 598],\n",
       "       [  0,   0,   0, ...,   0,   0, 287],\n",
       "       [  0,   0,   0, ...,   0,   0, 231]])"
      ]
     },
     "execution_count": 15,
     "metadata": {},
     "output_type": "execute_result"
    }
   ],
   "source": [
    "length=17\n",
    "padding_sent=pad_sequences(encoded_data, maxlen=length, padding='pre')\n",
    "padding_sent"
   ]
  },
  {
   "cell_type": "code",
   "execution_count": 16,
   "metadata": {},
   "outputs": [
    {
     "data": {
      "text/plain": [
       "80"
      ]
     },
     "execution_count": 16,
     "metadata": {},
     "output_type": "execute_result"
    }
   ],
   "source": [
    "len(padding_sent)"
   ]
  },
  {
   "cell_type": "code",
   "execution_count": 17,
   "metadata": {},
   "outputs": [],
   "source": [
    "my_model= Sequential()\n",
    "my_model.add(Embedding(vocab_size,1000,input_length=17))\n",
    "my_model.add(Flatten())\n",
    "my_model.add(Dense(1,activation='sigmoid'))"
   ]
  },
  {
   "cell_type": "code",
   "execution_count": 18,
   "metadata": {},
   "outputs": [],
   "source": [
    "my_model.compile(optimizer='adam',loss='binary_crossentropy', metrics=['accuracy'])"
   ]
  },
  {
   "cell_type": "code",
   "execution_count": 19,
   "metadata": {},
   "outputs": [
    {
     "name": "stdout",
     "output_type": "stream",
     "text": [
      "Epoch 1/10\n",
      "3/3 [==============================] - 1s 21ms/step - loss: 0.6885 - accuracy: 0.5625\n",
      "Epoch 2/10\n",
      "3/3 [==============================] - 0s 25ms/step - loss: 0.6033 - accuracy: 0.7750\n",
      "Epoch 3/10\n",
      "3/3 [==============================] - 0s 25ms/step - loss: 0.5348 - accuracy: 0.9750\n",
      "Epoch 4/10\n",
      "3/3 [==============================] - 0s 24ms/step - loss: 0.4727 - accuracy: 0.9750\n",
      "Epoch 5/10\n",
      "3/3 [==============================] - 0s 28ms/step - loss: 0.4150 - accuracy: 0.9625\n",
      "Epoch 6/10\n",
      "3/3 [==============================] - 0s 28ms/step - loss: 0.3558 - accuracy: 0.9625\n",
      "Epoch 7/10\n",
      "3/3 [==============================] - 0s 24ms/step - loss: 0.3000 - accuracy: 0.9625\n",
      "Epoch 8/10\n",
      "3/3 [==============================] - 0s 24ms/step - loss: 0.2508 - accuracy: 0.9875\n",
      "Epoch 9/10\n",
      "3/3 [==============================] - 0s 28ms/step - loss: 0.2065 - accuracy: 0.9875\n",
      "Epoch 10/10\n",
      "3/3 [==============================] - 0s 24ms/step - loss: 0.1696 - accuracy: 0.9875\n"
     ]
    },
    {
     "data": {
      "text/plain": [
       "<keras.callbacks.History at 0x14a09cca8e0>"
      ]
     },
     "execution_count": 19,
     "metadata": {},
     "output_type": "execute_result"
    }
   ],
   "source": [
    "my_model.fit(padding_sent,labels,epochs=10)"
   ]
  },
  {
   "cell_type": "code",
   "execution_count": 20,
   "metadata": {},
   "outputs": [
    {
     "name": "stdout",
     "output_type": "stream",
     "text": [
      "[[377, 516, 344], [204, 287, 883, 249], [516, 344, 249]]\n"
     ]
    }
   ],
   "source": [
    "#prediction\n",
    "\n",
    "sent_to_predict=['How are you', 'I am doing good', 'Are you Good']\n",
    "\n",
    "encoded_data=[one_hot(i,1000) for i in sent_to_predict]\n",
    "print(encoded_data)"
   ]
  },
  {
   "cell_type": "code",
   "execution_count": 21,
   "metadata": {},
   "outputs": [],
   "source": [
    "def predict(sent_to_predict):\n",
    "    encoded_data=[one_hot(i,1000) for i in sent_to_predict]\n",
    "    padding=pad_sequences(encoded_data, maxlen=length, padding='pre')\n",
    "    for i in my_model.predict(padding):    \n",
    "        if i<0.5:\n",
    "            print('Answer')\n",
    "        elif i>=0.5:\n",
    "            print('Question')"
   ]
  },
  {
   "cell_type": "code",
   "execution_count": 22,
   "metadata": {},
   "outputs": [
    {
     "name": "stdout",
     "output_type": "stream",
     "text": [
      "Question\n",
      "Answer\n",
      "Question\n",
      "Answer\n",
      "Question\n"
     ]
    }
   ],
   "source": [
    "predict(['How are you', 'I am doing good', 'Are you Good','you are doing good','are you sure'])"
   ]
  },
  {
   "cell_type": "code",
   "execution_count": 25,
   "metadata": {},
   "outputs": [
    {
     "name": "stdout",
     "output_type": "stream",
     "text": [
      "Answer\n"
     ]
    }
   ],
   "source": [
    "predict(['i am doing good'])"
   ]
  },
  {
   "cell_type": "code",
   "execution_count": null,
   "metadata": {},
   "outputs": [],
   "source": []
  }
 ],
 "metadata": {
  "interpreter": {
   "hash": "d63ce1e2573e67daa66f39efec3c0fec6c3decc1b872e4f317a79201b16586d1"
  },
  "kernelspec": {
   "display_name": "Python 3.8.13 ('tensorflow')",
   "language": "python",
   "name": "python3"
  },
  "language_info": {
   "codemirror_mode": {
    "name": "ipython",
    "version": 3
   },
   "file_extension": ".py",
   "mimetype": "text/x-python",
   "name": "python",
   "nbconvert_exporter": "python",
   "pygments_lexer": "ipython3",
   "version": "3.8.13"
  },
  "orig_nbformat": 4
 },
 "nbformat": 4,
 "nbformat_minor": 2
}
